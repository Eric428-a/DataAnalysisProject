{
  "nbformat": 4,
  "nbformat_minor": 0,
  "metadata": {
    "colab": {
      "provenance": [],
      "authorship_tag": "ABX9TyOwqjMpNhLtUiDmAjE3O8gd",
      "include_colab_link": true
    },
    "kernelspec": {
      "name": "python3",
      "display_name": "Python 3"
    },
    "language_info": {
      "name": "python"
    }
  },
  "cells": [
    {
      "cell_type": "markdown",
      "metadata": {
        "id": "view-in-github",
        "colab_type": "text"
      },
      "source": [
        "<a href=\"https://colab.research.google.com/github/Eric428-a/DataAnalysisProject/blob/main/medium_posts_csv.ipynb\" target=\"_parent\"><img src=\"https://colab.research.google.com/assets/colab-badge.svg\" alt=\"Open In Colab\"/></a>"
      ]
    },
    {
      "cell_type": "code",
      "execution_count": 20,
      "metadata": {
        "id": "Evo1g_DFCwrm"
      },
      "outputs": [],
      "source": [
        "# Import Necessary Libraries\n",
        "import pandas as pd\n",
        "import numpy as np\n",
        "import matplotlib.pyplot as plt\n",
        "import seaborn as sns"
      ]
    },
    {
      "cell_type": "code",
      "source": [],
      "metadata": {
        "id": "fiSnKpC7EE5P"
      },
      "execution_count": 20,
      "outputs": []
    },
    {
      "cell_type": "code",
      "source": [
        "# Load the Data\n",
        "df = pd.read_csv('/content/medium_posts.csv')"
      ],
      "metadata": {
        "id": "LxgC1OC1EE77"
      },
      "execution_count": 21,
      "outputs": []
    },
    {
      "cell_type": "code",
      "source": [],
      "metadata": {
        "id": "axzD0KplEE_N"
      },
      "execution_count": 21,
      "outputs": []
    },
    {
      "cell_type": "code",
      "source": [
        "# Inspect the Data\n",
        "print(\"Head:\")\n",
        "print(df.head())"
      ],
      "metadata": {
        "colab": {
          "base_uri": "https://localhost:8080/"
        },
        "id": "ldjCbiXoEFB8",
        "outputId": "4e582cfe-a519-4f9a-c187-01892a4b4630"
      },
      "execution_count": 22,
      "outputs": [
        {
          "output_type": "stream",
          "name": "stdout",
          "text": [
            "Head:\n",
            "                  published           domain  \\\n",
            "0  2012-08-13 22:54:53.510Z       medium.com   \n",
            "1  2012-08-13 22:57:17.248Z       medium.com   \n",
            "2  2016-11-04 23:40:43.364Z       medium.com   \n",
            "3  2016-12-24 18:21:13.427Z       medium.com   \n",
            "4  2015-09-22 21:37:48.207Z  blog.medium.com   \n",
            "\n",
            "                                                 url  \n",
            "0  https://medium.com/policy/medium-terms-of-serv...  \n",
            "1  https://medium.com/policy/medium-privacy-polic...  \n",
            "2  https://medium.com/@Medium/personalize-your-me...  \n",
            "3  https://medium.com/holiday-poems/xmas-morning-...  \n",
            "4  https://blog.medium.com/taking-a-side-on-net-n...  \n"
          ]
        }
      ]
    },
    {
      "cell_type": "code",
      "source": [
        "print(\"\\nInfo:\")\n",
        "print(df.info())"
      ],
      "metadata": {
        "colab": {
          "base_uri": "https://localhost:8080/"
        },
        "id": "C8u3LpPzFD8E",
        "outputId": "7c16edb8-726e-4b29-b51c-50502e6f32e2"
      },
      "execution_count": 23,
      "outputs": [
        {
          "output_type": "stream",
          "name": "stdout",
          "text": [
            "\n",
            "Info:\n",
            "<class 'pandas.core.frame.DataFrame'>\n",
            "RangeIndex: 92191 entries, 0 to 92190\n",
            "Data columns (total 3 columns):\n",
            " #   Column     Non-Null Count  Dtype \n",
            "---  ------     --------------  ----- \n",
            " 0   published  92191 non-null  object\n",
            " 1   domain     92191 non-null  object\n",
            " 2   url        92191 non-null  object\n",
            "dtypes: object(3)\n",
            "memory usage: 2.1+ MB\n",
            "None\n"
          ]
        }
      ]
    },
    {
      "cell_type": "code",
      "source": [
        "print(\"\\nDescription:\")\n",
        "print(df.describe())"
      ],
      "metadata": {
        "colab": {
          "base_uri": "https://localhost:8080/"
        },
        "id": "ME3jEkTiEFIG",
        "outputId": "f6483ac5-7271-4b16-832f-b23bec94f5cc"
      },
      "execution_count": 24,
      "outputs": [
        {
          "output_type": "stream",
          "name": "stdout",
          "text": [
            "\n",
            "Description:\n",
            "                       published      domain                      url\n",
            "count                      92191       92191                    92191\n",
            "unique                     92063         143                    92144\n",
            "top     2016-03-21 00:00:00.000Z  medium.com  https://medium.com/iiot\n",
            "freq                           5       90186                       25\n"
          ]
        }
      ]
    },
    {
      "cell_type": "code",
      "source": [],
      "metadata": {
        "id": "LURz1CswE2nE"
      },
      "execution_count": 24,
      "outputs": []
    },
    {
      "cell_type": "code",
      "source": [
        "# Check for Missing Values\n",
        "missing_values = df.isnull().sum()"
      ],
      "metadata": {
        "id": "fsj2X1D-MQDw"
      },
      "execution_count": 25,
      "outputs": []
    },
    {
      "cell_type": "code",
      "source": [
        "print(\"\\nMissing Values:\")\n",
        "print(missing_values)"
      ],
      "metadata": {
        "colab": {
          "base_uri": "https://localhost:8080/"
        },
        "id": "XZaAhJRiMQGk",
        "outputId": "60439b2b-2008-499c-c2b7-b4b42e3746a8"
      },
      "execution_count": 26,
      "outputs": [
        {
          "output_type": "stream",
          "name": "stdout",
          "text": [
            "\n",
            "Missing Values:\n",
            "published    0\n",
            "domain       0\n",
            "url          0\n",
            "dtype: int64\n"
          ]
        }
      ]
    },
    {
      "cell_type": "code",
      "source": [],
      "metadata": {
        "id": "eIEEuYN8MZwp"
      },
      "execution_count": 26,
      "outputs": []
    },
    {
      "cell_type": "code",
      "source": [
        "# Handle Missing Values\n",
        "# N/A"
      ],
      "metadata": {
        "id": "76muEBAuMaAh"
      },
      "execution_count": 27,
      "outputs": []
    },
    {
      "cell_type": "code",
      "source": [],
      "metadata": {
        "id": "1RAFtK5sMhY1"
      },
      "execution_count": 27,
      "outputs": []
    },
    {
      "cell_type": "code",
      "source": [
        "# Check for Duplicate Values"
      ],
      "metadata": {
        "id": "Tc94BklFMhp5"
      },
      "execution_count": 28,
      "outputs": []
    },
    {
      "cell_type": "code",
      "source": [
        "print(\"\\nDuplicate Values:\")\n",
        "print(df.duplicated().sum())"
      ],
      "metadata": {
        "colab": {
          "base_uri": "https://localhost:8080/"
        },
        "id": "Wf5WDl4kM25R",
        "outputId": "9bfd7ca7-1847-4883-bf31-bfecde450c39"
      },
      "execution_count": 29,
      "outputs": [
        {
          "output_type": "stream",
          "name": "stdout",
          "text": [
            "\n",
            "Duplicate Values:\n",
            "10\n"
          ]
        }
      ]
    },
    {
      "cell_type": "code",
      "source": [],
      "metadata": {
        "id": "riGYkvkyM3Ee"
      },
      "execution_count": 29,
      "outputs": []
    },
    {
      "cell_type": "code",
      "source": [
        "#  Remove Duplicate Values\n",
        "df.drop_duplicates(inplace=True)"
      ],
      "metadata": {
        "id": "QKLbjZ8YM3HQ"
      },
      "execution_count": 30,
      "outputs": []
    },
    {
      "cell_type": "code",
      "source": [],
      "metadata": {
        "id": "FKHr6vAsNId6"
      },
      "execution_count": 30,
      "outputs": []
    },
    {
      "cell_type": "code",
      "source": [
        "# Additional Exploration\n",
        "# Count the number of articles per domain\n",
        "domain_counts = df['domain'].value_counts()"
      ],
      "metadata": {
        "id": "n88wT3G2E2qD"
      },
      "execution_count": 31,
      "outputs": []
    },
    {
      "cell_type": "code",
      "source": [
        "print(\"\\nNumber of Articles per Domain:\")\n",
        "print(domain_counts)"
      ],
      "metadata": {
        "colab": {
          "base_uri": "https://localhost:8080/"
        },
        "id": "ZELZTb2SE2s1",
        "outputId": "1e73ef8a-6a1e-453e-f291-5ade8532188f"
      },
      "execution_count": 32,
      "outputs": [
        {
          "output_type": "stream",
          "name": "stdout",
          "text": [
            "\n",
            "Number of Articles per Domain:\n",
            "medium.com              90176\n",
            "hackernoon.com           1406\n",
            "themission.co             135\n",
            "blog.medium.com            82\n",
            "thecoffeelicious.com       33\n",
            "                        ...  \n",
            "the-ipad-artist.com         1\n",
            "curiouscivilian.com         1\n",
            "blog.framer.com             1\n",
            "chatbotnewsdaily.com        1\n",
            "theascent.biz               1\n",
            "Name: domain, Length: 143, dtype: int64\n"
          ]
        }
      ]
    },
    {
      "cell_type": "code",
      "source": [],
      "metadata": {
        "id": "22Eh41UBE2wE"
      },
      "execution_count": 32,
      "outputs": []
    },
    {
      "cell_type": "code",
      "source": [
        "# Display the top 10 most frequent domains\n",
        "top_10_domains = domain_counts.head(10)"
      ],
      "metadata": {
        "id": "Y51khu6ME2zR"
      },
      "execution_count": 33,
      "outputs": []
    },
    {
      "cell_type": "code",
      "source": [
        "print(\"\\nTop 10 Most Frequent Domains:\")\n",
        "print(top_10_domains)"
      ],
      "metadata": {
        "colab": {
          "base_uri": "https://localhost:8080/"
        },
        "id": "As3fs1OUHsi-",
        "outputId": "e04207f7-c818-4c09-93f2-61b10ef3cdaa"
      },
      "execution_count": 34,
      "outputs": [
        {
          "output_type": "stream",
          "name": "stdout",
          "text": [
            "\n",
            "Top 10 Most Frequent Domains:\n",
            "medium.com                90176\n",
            "hackernoon.com             1406\n",
            "themission.co               135\n",
            "blog.medium.com              82\n",
            "thecoffeelicious.com         33\n",
            "byrslf.co                    27\n",
            "praxis.fortelabs.co          16\n",
            "artplusmarketing.com         15\n",
            "acumenideas.com              11\n",
            "writingcooperative.com       10\n",
            "Name: domain, dtype: int64\n"
          ]
        }
      ]
    },
    {
      "cell_type": "code",
      "source": [],
      "metadata": {
        "id": "bdj82pX1Hs1a"
      },
      "execution_count": 34,
      "outputs": []
    },
    {
      "cell_type": "code",
      "source": [
        "# Visualize the distribution of publication dates\n",
        "df['published'] = pd.to_datetime(df['published'])  # Convert 'published' column to datetime\n",
        "plt.figure(figsize=(10, 6))\n",
        "sns.histplot(df['published'].dt.year, bins=len(df['published'].dt.year.unique()), kde=False)\n",
        "plt.xlabel('Year')\n",
        "plt.ylabel('Number of Articles')\n",
        "plt.title('Distribution of Publication Years')\n",
        "plt.show()"
      ],
      "metadata": {
        "colab": {
          "base_uri": "https://localhost:8080/",
          "height": 564
        },
        "id": "2KQbqYf0HtBJ",
        "outputId": "9dd1b33a-a3c1-432d-b01f-c8dab7618a75"
      },
      "execution_count": 35,
      "outputs": [
        {
          "output_type": "display_data",
          "data": {
            "text/plain": [
              "<Figure size 1000x600 with 1 Axes>"
            ],
            "image/png": "[encoded data removed]"
          },
          "metadata": {}
        }
      ]
    },
    {
      "cell_type": "code",
      "source": [],
      "metadata": {
        "id": "8kNBB98UHtD-"
      },
      "execution_count": 35,
      "outputs": []
    }
  ]
}