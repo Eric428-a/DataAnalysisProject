{
  "nbformat": 4,
  "nbformat_minor": 0,
  "metadata": {
    "colab": {
      "provenance": [],
      "authorship_tag": "ABX9TyPhJpyANS9yZTC1cOf5Yp9r",
      "include_colab_link": true
    },
    "kernelspec": {
      "name": "python3",
      "display_name": "Python 3"
    },
    "language_info": {
      "name": "python"
    }
  },
  "cells": [
    {
      "cell_type": "markdown",
      "metadata": {
        "id": "view-in-github",
        "colab_type": "text"
      },
      "source": [
        "<a href=\"https://colab.research.google.com/github/Eric428-a/DataAnalysisProject/blob/main/medium_posts_csv.ipynb\" target=\"_parent\"><img src=\"https://colab.research.google.com/assets/colab-badge.svg\" alt=\"Open In Colab\"/></a>"
      ]
    },
    {
      "cell_type": "code",
      "execution_count": 1,
      "metadata": {
        "id": "Evo1g_DFCwrm"
      },
      "outputs": [],
      "source": [
        "# 1. Import Necessary Libraries\n",
        "import pandas as pd\n",
        "import numpy as np\n",
        "import matplotlib.pyplot as plt\n",
        "import seaborn as sns"
      ]
    },
    {
      "cell_type": "code",
      "source": [],
      "metadata": {
        "id": "fiSnKpC7EE5P"
      },
      "execution_count": null,
      "outputs": []
    },
    {
      "cell_type": "code",
      "source": [
        "# 2. Load the Data\n",
        "df = pd.read_csv('/content/medium_posts.csv')"
      ],
      "metadata": {
        "id": "LxgC1OC1EE77"
      },
      "execution_count": 2,
      "outputs": []
    },
    {
      "cell_type": "code",
      "source": [],
      "metadata": {
        "id": "axzD0KplEE_N"
      },
      "execution_count": null,
      "outputs": []
    },
    {
      "cell_type": "code",
      "source": [
        "# 3. Inspect the Data\n",
        "print(\"Head:\")\n",
        "print(df.head())"
      ],
      "metadata": {
        "colab": {
          "base_uri": "https://localhost:8080/"
        },
        "id": "ldjCbiXoEFB8",
        "outputId": "8708fda9-929a-41b0-eca1-5562c5c7b7fb"
      },
      "execution_count": 3,
      "outputs": [
        {
          "output_type": "stream",
          "name": "stdout",
          "text": [
            "Head:\n",
            "                  published           domain  \\\n",
            "0  2012-08-13 22:54:53.510Z       medium.com   \n",
            "1  2012-08-13 22:57:17.248Z       medium.com   \n",
            "2  2016-11-04 23:40:43.364Z       medium.com   \n",
            "3  2016-12-24 18:21:13.427Z       medium.com   \n",
            "4  2015-09-22 21:37:48.207Z  blog.medium.com   \n",
            "\n",
            "                                                 url  \n",
            "0  https://medium.com/policy/medium-terms-of-serv...  \n",
            "1  https://medium.com/policy/medium-privacy-polic...  \n",
            "2  https://medium.com/@Medium/personalize-your-me...  \n",
            "3  https://medium.com/holiday-poems/xmas-morning-...  \n",
            "4  https://blog.medium.com/taking-a-side-on-net-n...  \n"
          ]
        }
      ]
    },
    {
      "cell_type": "code",
      "source": [
        "print(\"\\nInfo:\")\n",
        "print(df.info())"
      ],
      "metadata": {
        "colab": {
          "base_uri": "https://localhost:8080/"
        },
        "id": "C8u3LpPzFD8E",
        "outputId": "92739b0e-6dba-4e3a-dc21-12463806880f"
      },
      "execution_count": 5,
      "outputs": [
        {
          "output_type": "stream",
          "name": "stdout",
          "text": [
            "\n",
            "Info:\n",
            "<class 'pandas.core.frame.DataFrame'>\n",
            "RangeIndex: 32906 entries, 0 to 32905\n",
            "Data columns (total 3 columns):\n",
            " #   Column     Non-Null Count  Dtype \n",
            "---  ------     --------------  ----- \n",
            " 0   published  32906 non-null  object\n",
            " 1   domain     32906 non-null  object\n",
            " 2   url        32906 non-null  object\n",
            "dtypes: object(3)\n",
            "memory usage: 771.4+ KB\n",
            "None\n"
          ]
        }
      ]
    },
    {
      "cell_type": "code",
      "source": [
        "print(\"\\nDescription:\")\n",
        "print(df.describe())"
      ],
      "metadata": {
        "colab": {
          "base_uri": "https://localhost:8080/"
        },
        "id": "ME3jEkTiEFIG",
        "outputId": "ad08362a-13f8-4576-f8c9-50d46c595cb5"
      },
      "execution_count": 6,
      "outputs": [
        {
          "output_type": "stream",
          "name": "stdout",
          "text": [
            "\n",
            "Description:\n",
            "                       published      domain                      url\n",
            "count                      32906       32906                    32906\n",
            "unique                     32869          80                    32889\n",
            "top     2016-02-21 00:00:00.000Z  medium.com  https://medium.com/iiot\n",
            "freq                           4       32243                        8\n"
          ]
        }
      ]
    },
    {
      "cell_type": "code",
      "source": [],
      "metadata": {
        "id": "LURz1CswE2nE"
      },
      "execution_count": null,
      "outputs": []
    },
    {
      "cell_type": "code",
      "source": [
        "# Additional Exploration\n",
        "# Count the number of articles per domain\n",
        "domain_counts = df['domain'].value_counts()"
      ],
      "metadata": {
        "id": "n88wT3G2E2qD"
      },
      "execution_count": 7,
      "outputs": []
    },
    {
      "cell_type": "code",
      "source": [
        "print(\"\\nNumber of Articles per Domain:\")\n",
        "print(domain_counts)"
      ],
      "metadata": {
        "colab": {
          "base_uri": "https://localhost:8080/"
        },
        "id": "ZELZTb2SE2s1",
        "outputId": "cfce24f7-54f7-43e8-f5c9-f881daba421e"
      },
      "execution_count": 8,
      "outputs": [
        {
          "output_type": "stream",
          "name": "stdout",
          "text": [
            "\n",
            "Number of Articles per Domain:\n",
            "medium.com                 32243\n",
            "hackernoon.com               343\n",
            "themission.co                 76\n",
            "blog.medium.com               64\n",
            "thecoffeelicious.com          18\n",
            "                           ...  \n",
            "m.naitwo.me                    1\n",
            "dev.meduza.io                  1\n",
            "blog.cloudstitch.com           1\n",
            "dev-blog.apollodata.com        1\n",
            "virtualrealitypop.com          1\n",
            "Name: domain, Length: 80, dtype: int64\n"
          ]
        }
      ]
    },
    {
      "cell_type": "code",
      "source": [],
      "metadata": {
        "id": "22Eh41UBE2wE"
      },
      "execution_count": null,
      "outputs": []
    },
    {
      "cell_type": "code",
      "source": [
        "# Display the top 10 most frequent domains\n",
        "top_10_domains = domain_counts.head(10)"
      ],
      "metadata": {
        "id": "Y51khu6ME2zR"
      },
      "execution_count": 9,
      "outputs": []
    },
    {
      "cell_type": "code",
      "source": [
        "print(\"\\nTop 10 Most Frequent Domains:\")\n",
        "print(top_10_domains)"
      ],
      "metadata": {
        "colab": {
          "base_uri": "https://localhost:8080/"
        },
        "id": "As3fs1OUHsi-",
        "outputId": "4cd63cb0-fbed-458e-b9a5-33edbb375522"
      },
      "execution_count": 10,
      "outputs": [
        {
          "output_type": "stream",
          "name": "stdout",
          "text": [
            "\n",
            "Top 10 Most Frequent Domains:\n",
            "medium.com                32243\n",
            "hackernoon.com              343\n",
            "themission.co                76\n",
            "blog.medium.com              64\n",
            "thecoffeelicious.com         18\n",
            "byrslf.co                    13\n",
            "acumenideas.com              10\n",
            "writingcooperative.com        9\n",
            "thedevelopmentset.com         8\n",
            "salon.thefamily.co            5\n",
            "Name: domain, dtype: int64\n"
          ]
        }
      ]
    },
    {
      "cell_type": "code",
      "source": [],
      "metadata": {
        "id": "bdj82pX1Hs1a"
      },
      "execution_count": null,
      "outputs": []
    },
    {
      "cell_type": "code",
      "source": [
        "# Visualize the distribution of publication dates\n",
        "df['published'] = pd.to_datetime(df['published'])  # Convert 'published' column to datetime\n",
        "plt.figure(figsize=(10, 6))\n",
        "sns.histplot(df['published'].dt.year, bins=len(df['published'].dt.year.unique()), kde=False)\n",
        "plt.xlabel('Year')\n",
        "plt.ylabel('Number of Articles')\n",
        "plt.title('Distribution of Publication Years')\n",
        "plt.show()"
      ],
      "metadata": {
        "colab": {
          "base_uri": "https://localhost:8080/",
          "height": 564
        },
        "id": "2KQbqYf0HtBJ",
        "outputId": "dbae3416-d334-4f0d-8830-7f9e4907b16c"
      },
      "execution_count": 11,
      "outputs": [
        {
          "output_type": "display_data",
          "data": {
            "text/plain": [
              "<Figure size 1000x600 with 1 Axes>"
            ],
            "image/png": "[encoded data removed]"
          },
          "metadata": {}
        }
      ]
    },
    {
      "cell_type": "code",
      "source": [],
      "metadata": {
        "id": "8kNBB98UHtD-"
      },
      "execution_count": null,
      "outputs": []
    }
  ]
}