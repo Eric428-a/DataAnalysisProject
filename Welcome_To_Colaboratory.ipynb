{
  "cells": [
    {
      "cell_type": "markdown",
      "metadata": {
        "id": "view-in-github",
        "colab_type": "text"
      },
      "source": [
        "<a href=\"https://colab.research.google.com/github/Eric428-a/DataAnalysisProject/blob/main/Welcome_To_Colaboratory.ipynb\" target=\"_parent\"><img src=\"https://colab.research.google.com/assets/colab-badge.svg\" alt=\"Open In Colab\"/></a>"
      ]
    },
    {
      "cell_type": "code",
      "source": [
        "# Import necessary libraries\n",
        "import numpy as np\n",
        "import pandas as pd\n",
        "from sklearn.model_selection import train_test_split\n",
        "from sklearn.preprocessing import StandardScaler\n",
        "from tensorflow.keras.models import Sequential\n",
        "from tensorflow.keras.layers import Conv1D, LSTM, Dense, Flatten\n",
        "from tensorflow.keras.callbacks import EarlyStopping\n",
        "\n"
      ],
      "metadata": {
        "id": "RT8uEOXzPgfp"
      },
      "execution_count": 115,
      "outputs": []
    },
    {
      "cell_type": "code",
      "source": [
        "# Load the dataset\n",
        "dataset = pd.read_csv(\"/content/forestfires.csv\")\n",
        "\n"
      ],
      "metadata": {
        "id": "p2OnGnL_P36N"
      },
      "execution_count": 116,
      "outputs": []
    },
    {
      "cell_type": "code",
      "source": [
        "# Extract features (X) and target variable (y)\n",
        "X = dataset.iloc[:, 4:12].values  # Adjust column indices based on your specific features"
      ],
      "metadata": {
        "id": "pIsA_-MFUfrS"
      },
      "execution_count": 117,
      "outputs": []
    },
    {
      "cell_type": "code",
      "source": [
        "y = dataset.iloc[:, -1].values\n"
      ],
      "metadata": {
        "id": "7HkR3B5yUf4A"
      },
      "execution_count": 118,
      "outputs": []
    },
    {
      "cell_type": "code",
      "source": [
        "# Split the dataset into training and testing sets\n",
        "X_train, X_test, y_train, y_test = train_test_split(X, y, test_size=0.2, random_state=42)"
      ],
      "metadata": {
        "id": "f6obQOSiUglI"
      },
      "execution_count": 119,
      "outputs": []
    },
    {
      "cell_type": "code",
      "source": [
        "# Standardize the features\n",
        "scaler = StandardScaler()"
      ],
      "metadata": {
        "id": "5_HxqH4SUtv4"
      },
      "execution_count": 120,
      "outputs": []
    },
    {
      "cell_type": "code",
      "source": [
        "X_train = scaler.fit_transform(X_train)"
      ],
      "metadata": {
        "id": "y3JvGK0XUt71"
      },
      "execution_count": 121,
      "outputs": []
    },
    {
      "cell_type": "code",
      "source": [
        "X_test = scaler.transform(X_test)\n"
      ],
      "metadata": {
        "id": "nS24XJZbUt-u"
      },
      "execution_count": 122,
      "outputs": []
    },
    {
      "cell_type": "code",
      "source": [
        "# Reshape the input for CNN\n",
        "X_train_cnn = X_train.reshape((X_train.shape[0], X_train.shape[1], 1))"
      ],
      "metadata": {
        "id": "xGRhy5PEUuCI"
      },
      "execution_count": 123,
      "outputs": []
    },
    {
      "cell_type": "code",
      "source": [
        "X_test_cnn = X_test.reshape((X_test.shape[0], X_test.shape[1], 1))\n"
      ],
      "metadata": {
        "id": "olKC2ZPaUuFb"
      },
      "execution_count": 124,
      "outputs": []
    },
    {
      "cell_type": "code",
      "source": [
        "# Define CNN model\n",
        "model_cnn = Sequential()"
      ],
      "metadata": {
        "id": "ZB3nJVODUgn_"
      },
      "execution_count": 125,
      "outputs": []
    },
    {
      "cell_type": "code",
      "source": [
        "model_cnn.add(Conv1D(filters=64, kernel_size=3, activation='relu', input_shape=(X_train_cnn.shape[1], 1)))"
      ],
      "metadata": {
        "id": "DHMH4So2U9aA"
      },
      "execution_count": 126,
      "outputs": []
    },
    {
      "cell_type": "code",
      "source": [
        "model_cnn.add(Flatten())"
      ],
      "metadata": {
        "id": "9EooU2kOU9cX"
      },
      "execution_count": 127,
      "outputs": []
    },
    {
      "cell_type": "code",
      "source": [
        "model_cnn.add(Dense(64, activation='relu'))"
      ],
      "metadata": {
        "id": "n52fhzq-U9e1"
      },
      "execution_count": 128,
      "outputs": []
    },
    {
      "cell_type": "code",
      "source": [
        "model_cnn.add(Dense(1))  # Assuming regression task, adjust for classification if needed"
      ],
      "metadata": {
        "id": "JlP6GOr6U9ho"
      },
      "execution_count": 129,
      "outputs": []
    },
    {
      "cell_type": "code",
      "source": [
        "model_cnn.compile(optimizer='adam', loss='mean_squared_error')  # Adjust loss based on the task\n"
      ],
      "metadata": {
        "id": "m07UZQVoVYZS"
      },
      "execution_count": 130,
      "outputs": []
    },
    {
      "cell_type": "code",
      "source": [
        "# Define LSTM model\n",
        "model_lstm = Sequential()"
      ],
      "metadata": {
        "id": "iJQv9RPEP8BR"
      },
      "execution_count": 131,
      "outputs": []
    },
    {
      "cell_type": "code",
      "source": [
        "model_lstm.add(LSTM(50, activation='relu', input_shape=(X_train.shape[1], 1)))"
      ],
      "metadata": {
        "id": "XDnk1pEUVghk"
      },
      "execution_count": 132,
      "outputs": []
    },
    {
      "cell_type": "code",
      "source": [
        "model_lstm.add(Dense(1))  # Assuming regression task, adjust for classification if needed"
      ],
      "metadata": {
        "id": "aJOsA8IBVgkw"
      },
      "execution_count": 133,
      "outputs": []
    },
    {
      "cell_type": "code",
      "source": [
        "model_lstm.compile(optimizer='adam', loss='mean_squared_error')  # Adjust loss based on the task\n"
      ],
      "metadata": {
        "id": "K4VUPI4yVjqv"
      },
      "execution_count": 134,
      "outputs": []
    },
    {
      "cell_type": "code",
      "source": [],
      "metadata": {
        "id": "7bheSUxaVkB6"
      },
      "execution_count": 134,
      "outputs": []
    },
    {
      "cell_type": "code",
      "source": [
        "# Use early stopping to prevent overfitting\n",
        "early_stopping = EarlyStopping(patience=5, restore_best_weights=True)"
      ],
      "metadata": {
        "id": "deCaS5CsP8PH"
      },
      "execution_count": 135,
      "outputs": []
    },
    {
      "cell_type": "code",
      "source": [
        "# Train CNN model\n",
        "model_cnn.fit(X_train_cnn, y_train, epochs=50, batch_size=32, validation_split=0.2, callbacks=[early_stopping])\n",
        "\n"
      ],
      "metadata": {
        "colab": {
          "base_uri": "https://localhost:8080/"
        },
        "id": "luNwxjTZQCOR",
        "outputId": "cd9b800e-43e3-4d22-cfd1-325aa9969483"
      },
      "execution_count": 136,
      "outputs": [
        {
          "output_type": "stream",
          "name": "stdout",
          "text": [
            "Epoch 1/50\n",
            "11/11 [==============================] - 1s 20ms/step - loss: 2588.8682 - val_loss: 617.2289\n",
            "Epoch 2/50\n",
            "11/11 [==============================] - 0s 5ms/step - loss: 2560.8601 - val_loss: 604.9105\n",
            "Epoch 3/50\n",
            "11/11 [==============================] - 0s 7ms/step - loss: 2538.5696 - val_loss: 594.9644\n",
            "Epoch 4/50\n",
            "11/11 [==============================] - 0s 5ms/step - loss: 2511.4336 - val_loss: 590.7931\n",
            "Epoch 5/50\n",
            "11/11 [==============================] - 0s 5ms/step - loss: 2488.9045 - val_loss: 586.9100\n",
            "Epoch 6/50\n",
            "11/11 [==============================] - 0s 7ms/step - loss: 2472.5908 - val_loss: 584.4909\n",
            "Epoch 7/50\n",
            "11/11 [==============================] - 0s 6ms/step - loss: 2455.2368 - val_loss: 585.6603\n",
            "Epoch 8/50\n",
            "11/11 [==============================] - 0s 5ms/step - loss: 2443.9851 - val_loss: 587.6824\n",
            "Epoch 9/50\n",
            "11/11 [==============================] - 0s 7ms/step - loss: 2434.8823 - val_loss: 590.3951\n",
            "Epoch 10/50\n",
            "11/11 [==============================] - 0s 6ms/step - loss: 2429.8723 - val_loss: 595.0253\n",
            "Epoch 11/50\n",
            "11/11 [==============================] - 0s 7ms/step - loss: 2420.5598 - val_loss: 594.0019\n"
          ]
        },
        {
          "output_type": "execute_result",
          "data": {
            "text/plain": [
              "<keras.src.callbacks.History at 0x78ef5701f190>"
            ]
          },
          "metadata": {},
          "execution_count": 136
        }
      ]
    },
    {
      "cell_type": "code",
      "source": [
        "# Train LSTM model\n",
        "model_lstm.fit(X_train.reshape((X_train.shape[0], X_train.shape[1], 1)), y_train,\n",
        "               epochs=50, batch_size=32, validation_split=0.2, callbacks=[early_stopping])\n"
      ],
      "metadata": {
        "colab": {
          "base_uri": "https://localhost:8080/"
        },
        "id": "LZB5jyT7QCZc",
        "outputId": "db864afb-23bd-4fab-bd0f-5bcce9ca5eed"
      },
      "execution_count": 137,
      "outputs": [
        {
          "output_type": "stream",
          "name": "stdout",
          "text": [
            "Epoch 1/50\n",
            "11/11 [==============================] - 2s 48ms/step - loss: 2598.0422 - val_loss: 630.3023\n",
            "Epoch 2/50\n",
            "11/11 [==============================] - 0s 15ms/step - loss: 2595.4819 - val_loss: 628.5789\n",
            "Epoch 3/50\n",
            "11/11 [==============================] - 0s 14ms/step - loss: 2591.8687 - val_loss: 625.9996\n",
            "Epoch 4/50\n",
            "11/11 [==============================] - 0s 16ms/step - loss: 2587.2791 - val_loss: 622.2694\n",
            "Epoch 5/50\n",
            "11/11 [==============================] - 0s 16ms/step - loss: 2576.5774 - val_loss: 615.9277\n",
            "Epoch 6/50\n",
            "11/11 [==============================] - 0s 19ms/step - loss: 2571.0884 - val_loss: 601.8878\n",
            "Epoch 7/50\n",
            "11/11 [==============================] - 0s 15ms/step - loss: 2539.3789 - val_loss: 596.0441\n",
            "Epoch 8/50\n",
            "11/11 [==============================] - 0s 13ms/step - loss: 2490.2273 - val_loss: 584.1135\n",
            "Epoch 9/50\n",
            "11/11 [==============================] - 0s 12ms/step - loss: 2462.0503 - val_loss: 665.4391\n",
            "Epoch 10/50\n",
            "11/11 [==============================] - 0s 14ms/step - loss: 2455.5793 - val_loss: 618.5806\n",
            "Epoch 11/50\n",
            "11/11 [==============================] - 0s 14ms/step - loss: 2433.9766 - val_loss: 605.1137\n",
            "Epoch 12/50\n",
            "11/11 [==============================] - 0s 13ms/step - loss: 2443.5505 - val_loss: 608.4388\n",
            "Epoch 13/50\n",
            "11/11 [==============================] - 0s 15ms/step - loss: 2460.0059 - val_loss: 586.5123\n"
          ]
        },
        {
          "output_type": "execute_result",
          "data": {
            "text/plain": [
              "<keras.src.callbacks.History at 0x78ef5743fbb0>"
            ]
          },
          "metadata": {},
          "execution_count": 137
        }
      ]
    },
    {
      "cell_type": "code",
      "source": [
        "# Evaluate models on the test set\n",
        "loss_cnn = model_cnn.evaluate(X_test_cnn, y_test)"
      ],
      "metadata": {
        "colab": {
          "base_uri": "https://localhost:8080/"
        },
        "id": "-Kh_Vo1sQMuu",
        "outputId": "db2dbebd-815f-4eaf-9923-13280d103517"
      },
      "execution_count": 138,
      "outputs": [
        {
          "output_type": "stream",
          "name": "stdout",
          "text": [
            "4/4 [==============================] - 0s 5ms/step - loss: 11919.0508\n"
          ]
        }
      ]
    },
    {
      "cell_type": "code",
      "source": [
        "loss_lstm = model_lstm.evaluate(X_test.reshape((X_test.shape[0], X_test.shape[1], 1)), y_test)\n"
      ],
      "metadata": {
        "colab": {
          "base_uri": "https://localhost:8080/"
        },
        "id": "Rv2SC2FrQM0b",
        "outputId": "d24b21ca-7b6d-4f57-fef4-a5504c3f5563"
      },
      "execution_count": 139,
      "outputs": [
        {
          "output_type": "stream",
          "name": "stdout",
          "text": [
            "4/4 [==============================] - 0s 5ms/step - loss: 12067.3506\n"
          ]
        }
      ]
    },
    {
      "cell_type": "code",
      "source": [
        "print(\"CNNp Test Loss:\", loss_cnn)"
      ],
      "metadata": {
        "colab": {
          "base_uri": "https://localhost:8080/"
        },
        "id": "_LAXUPt9QCju",
        "outputId": "642f84b7-591e-47cb-96d0-71bf34ea5201"
      },
      "execution_count": 140,
      "outputs": [
        {
          "output_type": "stream",
          "name": "stdout",
          "text": [
            "CNNp Test Loss: 11919.05078125\n"
          ]
        }
      ]
    },
    {
      "cell_type": "code",
      "source": [
        "print(\"LSTM Test Loss:\", loss_lstm)"
      ],
      "metadata": {
        "colab": {
          "base_uri": "https://localhost:8080/"
        },
        "id": "a54P5nV_UIpA",
        "outputId": "561cef1b-b675-48b6-8179-e534385a7307"
      },
      "execution_count": 141,
      "outputs": [
        {
          "output_type": "stream",
          "name": "stdout",
          "text": [
            "LSTM Test Loss: 12067.3505859375\n"
          ]
        }
      ]
    }
  ],
  "metadata": {
    "colab": {
      "name": "Welcome To Colaboratory",
      "provenance": [],
      "include_colab_link": true
    },
    "kernelspec": {
      "display_name": "Python 3",
      "name": "python3"
    }
  },
  "nbformat": 4,
  "nbformat_minor": 0
}